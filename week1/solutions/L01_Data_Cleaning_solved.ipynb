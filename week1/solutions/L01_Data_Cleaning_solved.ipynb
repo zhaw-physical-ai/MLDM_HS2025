{
 "cells": [
  {
   "cell_type": "markdown",
   "metadata": {
    "id": "H8fDg0Zyh3D8"
   },
   "source": [
    "# Lab 01 Data Cleaning and Exploration"
   ]
  },
  {
   "cell_type": "markdown",
   "metadata": {
    "id": "Y20uIgmUh9D_"
   },
   "source": [
    "In this Lab, we will work with official COVID19 case data published by the Swiss government. The data can be found [here](https://github.com/openZH/covid_19/tree/master#swiss-cantons-and-principality-of-liechtenstein-unified-dataset).\n",
    "\n",
    "It has been partially adapted from [this](https://datagy.io/pandas-data-cleaning/) tutorial."
   ]
  },
  {
   "cell_type": "markdown",
   "metadata": {
    "id": "70M0L7qqdFpX"
   },
   "source": [
    "**Note:** We will mark your tasks with 🚨 emoji. In this lab the first such task will appear relatively late."
   ]
  },
  {
   "cell_type": "markdown",
   "metadata": {
    "id": "su744hkOjT_q"
   },
   "source": [
    "## Fetching the Raw Data"
   ]
  },
  {
   "cell_type": "markdown",
   "metadata": {
    "id": "rmHEwCJWiS1p"
   },
   "source": [
    "First, we will download the raw data. Don't worry; you do not need to understand this command. The data will be saved as `swiss_covid_data.csv` in your current working directory."
   ]
  },
  {
   "cell_type": "code",
   "execution_count": null,
   "metadata": {
    "id": "YGkGkFqrg09V"
   },
   "outputs": [],
   "source": [
    "!wget https://raw.githubusercontent.com/vodezhaw/mldm_hs23/main/resources/lab01_dirty_data.csv -O swiss_covid_data.csv"
   ]
  },
  {
   "cell_type": "markdown",
   "metadata": {
    "id": "laWhb0nSinz-"
   },
   "source": [
    "Next, we try to inspect the downloaded data to get an understanding of its format. The command below will display the first 6 lines of the downloaded file.\n",
    "\n",
    "Even though `.csv` stands for \"comma separated values\", often times people distribute `.csv` files with different separator characters. In this case, everything seems to be in order."
   ]
  },
  {
   "cell_type": "code",
   "execution_count": null,
   "metadata": {
    "id": "fl5ISREjhhCG"
   },
   "outputs": [],
   "source": [
    "!head -n 6 swiss_covid_data.csv"
   ]
  },
  {
   "cell_type": "markdown",
   "metadata": {
    "id": "o_qtzlLwjbHB"
   },
   "source": [
    "In this lab, we will use the `pandas` library to analyze and clean this dataset. This library is particularly well suited to work with tabular data."
   ]
  },
  {
   "cell_type": "code",
   "execution_count": null,
   "metadata": {
    "id": "5rhts6vUjvr-"
   },
   "outputs": [],
   "source": [
    "import pandas as pd  # we import the library with the short-name `pd`, a convention you will find everywhere online"
   ]
  },
  {
   "cell_type": "markdown",
   "metadata": {
    "id": "ZF8FUL2ykCVw"
   },
   "source": [
    "Next, we will read the dataset:"
   ]
  },
  {
   "cell_type": "code",
   "execution_count": null,
   "metadata": {
    "id": "outDL0D6j8a-"
   },
   "outputs": [],
   "source": [
    "covid_data = pd.read_csv('swiss_covid_data.csv')"
   ]
  },
  {
   "cell_type": "markdown",
   "metadata": {
    "id": "6Fa2BO75kiSD"
   },
   "source": [
    "Note that if you ever work with a `.csv` that does not include the column names in the first line, or has a different separating character, you can specify these in `pd.read_csv` with the `sep` and `header` keyword arguments. For more options, you can refer to the [documentation](https://pandas.pydata.org/pandas-docs/stable/reference/api/pandas.read_csv.html)."
   ]
  },
  {
   "cell_type": "markdown",
   "metadata": {
    "id": "woOoUG7ClWCp"
   },
   "source": [
    "The data is loaded as a `pd.Dataframe` which exposes many useful methods for this lab."
   ]
  },
  {
   "cell_type": "markdown",
   "metadata": {
    "id": "UNTIWnXclj2K"
   },
   "source": [
    "## Inspecting the Data"
   ]
  },
  {
   "cell_type": "markdown",
   "metadata": {
    "id": "SxN_DAo0loVg"
   },
   "source": [
    "We can use the `.head()` method to get a quick idea of the kind of data we are dealing with. It will return the first `n=5` rows of the dataframe."
   ]
  },
  {
   "cell_type": "code",
   "execution_count": null,
   "metadata": {
    "id": "fjO63aUolo8v"
   },
   "outputs": [],
   "source": [
    "covid_data.head()"
   ]
  },
  {
   "cell_type": "markdown",
   "metadata": {
    "id": "p-oFMdinsYxw"
   },
   "source": [
    "Next, it is important to get a good sense what the different columns represent. Some of them have intuitive names, such as `date` and `time`, but names like `ncumul_conf` can be inscrutable."
   ]
  },
  {
   "cell_type": "markdown",
   "metadata": {
    "id": "izSwTMH0tAaZ"
   },
   "source": [
    "For convenience, we copied the [data description](https://github.com/openZH/covid_19/blob/master/README.md#swiss-cantons-and-principality-of-liechtenstein-unified-dataset) below.\n",
    "Be sure to study it carefully. Understanding the meaning of the data you are working with is crucial when deciding how to deal with missing values and other aspect of data cleanup!"
   ]
  },
  {
   "cell_type": "markdown",
   "metadata": {
    "id": "spjSOwUWsng4"
   },
   "source": [
    "\n",
    "**Metadata**\n",
    "\n",
    "| Field Name          | Description                                | Format     | Note |\n",
    "|---------------------|--------------------------------------------|------------|------|\n",
    "| __date__              | Date of notification                       | YYYY-MM-DD | |\n",
    "| __time__                 | Time of notification                       | HH:MM      | |\n",
    "| __abbreviation_canton_and_fl__  | Abbreviation of the reporting canton       | Text       | |\n",
    "| __ncumul_tested__      | Reported number of tests performed as of date| Number     | Irrespective of canton of residence |\n",
    "| __ncumul_conf__          | Reported number of confirmed cases as of date| Number     | Only cases that reside in the current canton |\n",
    "| __new_hosp__        | new hospitalisations since last date | Number     | Irrespective of canton of residence |\n",
    "| __current_hosp__       | Reported number of hospitalised patients on date | Number     | Irrespective of canton of residence |\n",
    "| __current_icu__       | Reported number of hospitalised patients in ICUs on date| Number     | Irrespective of canton of residence |\n",
    "| __current_vent__        | Reported number of patients requiring invasive ventilation on date | Number     | Irrespective of canton of residence |\n",
    "| __ncumul_released__     |Reported number of patients released from hospitals or reported recovered as of date| Number     | Irrespective of canton of residence |\n",
    "| __ncumul_deceased__     |Reported number of deceased as of date| Number     | Only cases that reside in the current canton |\n",
    "| __source__              | Source of the information                  | href       | |\n",
    "| __current_isolated__       | Reported number of isolated persons on date          | Number       | Infected persons, who are not hospitalised |\n",
    "| __current_quarantined__    | Reported number of quarantined persons on date       | Number       | Persons, who were in 'close contact' with an infected person, while that person was infectious, and are not hospitalised themselves |\n",
    "| __current_quarantined_riskareatravel__    | Reported number of quarantined persons on date       | Number       | People arriving in Switzerland from [certain countries and areas](https://www.bag.admin.ch/bag/en/home/krankheiten/ausbrueche-epidemien-pandemien/aktuelle-ausbrueche-epidemien/novel-cov/empfehlungen-fuer-reisende/quarantaene-einreisende.html), who are required to go into quarantine.  |"
   ]
  },
  {
   "cell_type": "markdown",
   "metadata": {
    "id": "CUNui20Vs2_7"
   },
   "source": [
    "Another useful method to get a quick feel for the data at hand is `.describe()` which produces a table of statistics about the different columns. By default it will only include numeric columns, but you can set `include='all'` to get an overview of all columns. Note that when computing statistics such as the mean, `NaN` values will be ignored."
   ]
  },
  {
   "cell_type": "code",
   "execution_count": null,
   "metadata": {
    "id": "sYWGO9TflzcD"
   },
   "outputs": [],
   "source": [
    "covid_data.describe()\n",
    "# try setting `include='all'`"
   ]
  },
  {
   "cell_type": "markdown",
   "metadata": {
    "id": "o67juEu03jwS"
   },
   "source": [
    "## Dealing with Missing Values"
   ]
  },
  {
   "cell_type": "markdown",
   "metadata": {
    "id": "BXARtRbm6ZUr"
   },
   "source": [
    "When reading the original `swiss_covid_data.csv` every cell that did not have a value was assigned the value `NaN` (not a number).\n",
    "\n",
    "When we apply the `.isna()` method to our data, every cell of the result will contain a boolean value indicating whether that cell had a `Nan` (or `None` or similar false-y value) in it."
   ]
  },
  {
   "cell_type": "code",
   "execution_count": null,
   "metadata": {
    "id": "R47RwO2N3muM"
   },
   "outputs": [],
   "source": [
    "covid_data.isna()"
   ]
  },
  {
   "cell_type": "markdown",
   "metadata": {
    "id": "54PQWJn07gV7"
   },
   "source": [
    "We can count the number of missing values in each column by summing over all rows:"
   ]
  },
  {
   "cell_type": "code",
   "execution_count": null,
   "metadata": {
    "id": "FYGocGKa7rpe"
   },
   "outputs": [],
   "source": [
    "covid_data.isna().sum()"
   ]
  },
  {
   "cell_type": "markdown",
   "metadata": {
    "id": "5lp1UXoq8Okf"
   },
   "source": [
    "*Note*: You can specify `.sum(axis=1)` to sum over columns instead."
   ]
  },
  {
   "cell_type": "markdown",
   "metadata": {
    "id": "xdwsqvMR8hd6"
   },
   "source": [
    "We notice that the `current_quarantined_total` has 24040 missing values, which corresponds to the total number of entries in the dataframe.\n",
    "\n",
    "We can re-verify this by inspecting the unique values:"
   ]
  },
  {
   "cell_type": "code",
   "execution_count": null,
   "metadata": {
    "id": "e6PROJI88_09"
   },
   "outputs": [],
   "source": [
    "covid_data['current_quarantined_total'].unique()"
   ]
  },
  {
   "cell_type": "markdown",
   "metadata": {
    "id": "q4qOB_7q9GI6"
   },
   "source": [
    "We therefore suggest to drop this column from the data entirely.\n",
    "\n",
    "This can be achieved by the `.drop()` method, as follows:"
   ]
  },
  {
   "cell_type": "code",
   "execution_count": null,
   "metadata": {
    "id": "a0WuyV5Q9Q2G"
   },
   "outputs": [],
   "source": [
    "covid_data = covid_data.drop(columns=['current_quarantined_total'])\n",
    "covid_data.head()"
   ]
  },
  {
   "cell_type": "markdown",
   "metadata": {
    "id": "8iE4NlCHASww"
   },
   "source": [
    "Generally, there are two approaches to deal with missing values. We can either ignore them, for example by throwing out rows that contain them, or we can try to impute a \"reasonable\" value.\n",
    "\n",
    "Of course, what is \"reasonable\" heavily depends on the data at hand!"
   ]
  },
  {
   "cell_type": "markdown",
   "metadata": {
    "id": "fFFtNXsgAodu"
   },
   "source": [
    "Let us first consider the easier approach: dropping rows that have missing entries. This can be achieved using the `.dropna()` method.\n",
    "\n",
    "By default it will remove all rows that have at least one missing value:"
   ]
  },
  {
   "cell_type": "code",
   "execution_count": null,
   "metadata": {
    "id": "VYRpPYtr9lap"
   },
   "outputs": [],
   "source": [
    "covid_data.dropna()"
   ]
  },
  {
   "cell_type": "markdown",
   "metadata": {
    "id": "ejYXNdoBBe9A"
   },
   "source": [
    "We can see that this is too aggressive as it leaves us with only 68 out our original 24032 rows!\n",
    "\n",
    "We can be more lax about dropping rows by either setting `how='all'`, which will only drop rows that consist entirely of missing values, or `thresh=3` (or any other integer value) which will drop rows with fewer than 3 non-missing values."
   ]
  },
  {
   "cell_type": "code",
   "execution_count": null,
   "metadata": {
    "id": "jZClmLq5CFoX"
   },
   "outputs": [],
   "source": [
    "covid_data.dropna(thresh=3)"
   ]
  },
  {
   "cell_type": "markdown",
   "metadata": {
    "id": "hBddUuNBxPP-"
   },
   "source": [
    "### Replacing Missing Values"
   ]
  },
  {
   "cell_type": "markdown",
   "metadata": {
    "id": "DoIwwfzgDoRy"
   },
   "source": [
    "We will now focus on imputing missing values.\n",
    "\n",
    "Our data contains broadly speaking 3 types of values:\n",
    "* direct and cumulative counts of populations (numerical)\n",
    "* `date` and `time`\n",
    "* categorical `abbreviation_canton_and_fl` and `source`\n",
    "\n",
    "We already know that `abbreviation_canton_and_fl` and `date` do not have any missing values.\n",
    "\n",
    "`source` has only 2 missing values, which we will ignore for now."
   ]
  },
  {
   "cell_type": "markdown",
   "metadata": {
    "id": "NiR4qeRjFAnG"
   },
   "source": [
    "We will first focus on the `time` column. Looking at the dataframe console printouts, we can already guess that many rows have the value `\"00:00\"` as their time.\n",
    "\n",
    "We can confirm this by counting how many times each unique `time` value appears:"
   ]
  },
  {
   "cell_type": "code",
   "execution_count": null,
   "metadata": {
    "id": "wZoxuQnaFcBb"
   },
   "outputs": [],
   "source": [
    "covid_data['time'].value_counts()"
   ]
  },
  {
   "cell_type": "markdown",
   "metadata": {
    "id": "njQA3zUOGRJU"
   },
   "source": [
    "We will therefore decide to fill the missing `time` values with\n",
    "`\"00:00\"`. This can be achieved by the `.fillna()` method:"
   ]
  },
  {
   "cell_type": "code",
   "execution_count": null,
   "metadata": {
    "id": "wk0tyeVzGQJ4"
   },
   "outputs": [],
   "source": [
    "covid_data['time'] = covid_data['time'].fillna(\"00:00\")\n",
    "covid_data.isna().sum()"
   ]
  },
  {
   "cell_type": "markdown",
   "metadata": {
    "id": "_4KXhmoMG8lb"
   },
   "source": [
    "Note that we specifically update the `time` column with a version where the missing values have been replaced. If we instead wrote `covid_data.fillna(\"00:00\")` then every missing value in the entire dataframe would be replaced by `\"00:00\"`!"
   ]
  },
  {
   "cell_type": "markdown",
   "metadata": {
    "id": "945Jgvt_Dwz8"
   },
   "source": [
    "**(Side Note)**: If we inspect the data more closely, we can see that each canton seems to have a specific time that they usually submit the data, so filling in \"00:00\" agnostically might not be the perfect solution but we will consider it good enough for this lab."
   ]
  },
  {
   "cell_type": "markdown",
   "metadata": {
    "id": "KxYq0v93EI7S"
   },
   "source": [
    "Next, we will fill in current counts, such as `current_hosp`. In the lecture you have seen different approaches to determine a good value to impute. Intuitively, if we do not know how many people are currently in the hospital, a simple estimate would be to use the number of people hospitalised the day before, or the last known value in general."
   ]
  },
  {
   "cell_type": "markdown",
   "metadata": {
    "id": "mjIIInBqIHBP"
   },
   "source": [
    "This can be achieved in pandas by using the `.ffill()` (forward-fill) method. The code sniplet below shows a simple example."
   ]
  },
  {
   "cell_type": "code",
   "execution_count": null,
   "metadata": {
    "id": "jyy4zhPmIjpx"
   },
   "outputs": [],
   "source": [
    "ffill_example = pd.DataFrame({\"values\": [1, 2, 3, None, None, 6]})\n",
    "ffill_example"
   ]
  },
  {
   "cell_type": "code",
   "execution_count": null,
   "metadata": {
    "id": "ccRvHuYoI06P"
   },
   "outputs": [],
   "source": [
    "ffill_example.ffill()"
   ]
  },
  {
   "cell_type": "markdown",
   "metadata": {
    "id": "r7PFDwu2JHGy"
   },
   "source": [
    "For our covid data this will become a little more intricate. First, we have to make sure that the data is sorted by date and time to make sure we actually forward fill the last known values. Second, we will have to do this for each canton individually, as it makes no sense to substitute a known value from Geneva in Zurich. We show how to achieve this in the next cell and unpack it afterwards:"
   ]
  },
  {
   "cell_type": "code",
   "execution_count": null,
   "metadata": {
    "id": "7aBMcfTVFzep"
   },
   "outputs": [],
   "source": [
    "ffill_columns = [\n",
    "  'ncumul_tested',\n",
    "  'ncumul_conf',\n",
    "  'current_hosp',\n",
    "  'current_icu',\n",
    "  'current_vent',\n",
    "  'ncumul_released',\n",
    "  'ncumul_deceased',\n",
    "  'current_isolated',\n",
    "  'current_quarantined',\n",
    "  'current_quarantined_riskareatravel',\n",
    "]\n",
    "for canton in covid_data['abbreviation_canton_and_fl'].unique():\n",
    "  covid_data.loc[covid_data['abbreviation_canton_and_fl'] == canton, ffill_columns] = covid_data.loc[covid_data['abbreviation_canton_and_fl'] == canton, ffill_columns].ffill().fillna(0.)\n",
    "\n",
    "covid_data"
   ]
  },
  {
   "cell_type": "markdown",
   "metadata": {
    "id": "aPtCqN6xLofg"
   },
   "source": [
    "First, we specify which columns we will forward fill. Here we selected all current and cumulative counts.\n",
    "\n",
    "Then we iterate over all cantons. The `.loc` method is used for complex indexing. It can be used as `.loc[row_selection, column_selection]`. The rows we select are the ones that correspond to the current canton. The expression `covid_data['abbreviation_canton_and_fl'] == canton` returns a boolean index series that indicates rows that match the current canton. We use the list of columns we want to forward fill as our column selection.\n",
    "\n",
    "As before, we reassign all these cells by a version that has its missing values filled in. We apply the `.ffill()` method and follow it by a `fillna(0.)`. This is because missing values at the start (before any value is known) can not be forward-filled and we explicitely set them to 0 here."
   ]
  },
  {
   "cell_type": "markdown",
   "metadata": {
    "id": "CCMWvhgANTEw"
   },
   "source": [
    "Let us now see our progess:"
   ]
  },
  {
   "cell_type": "code",
   "execution_count": null,
   "metadata": {
    "id": "2YGVDLNUNWI4"
   },
   "outputs": [],
   "source": [
    "covid_data.isna().sum()"
   ]
  },
  {
   "cell_type": "markdown",
   "metadata": {
    "id": "LnFnHsMUNeCW"
   },
   "source": [
    "There are two remaining columns with missing values. For `new_hosp` we will naively fill in 0 and for `source` we will impute the string `\"unknown\"`."
   ]
  },
  {
   "cell_type": "markdown",
   "metadata": {
    "id": "GnaMZBPjx2Fu"
   },
   "source": [
    "**🚨 TASK 1A (2 Points) 🚨**\n",
    "\n",
    "* Replace missing values in the `new_hosp` column by 0\n",
    "* Replace missing values in the `source` column by the string `\"unknown\"`"
   ]
  },
  {
   "cell_type": "code",
   "execution_count": null,
   "metadata": {
    "id": "peaTkKqzNs0o"
   },
   "outputs": [],
   "source": [
    "# Hint refer back to where we replaced missing 'time' values by \"00:00\"!\n",
    "covid_data['new_hosp'] = covid_data['new_hosp'].fillna(0.)\n",
    "covid_data['source'] = covid_data['source'].fillna(\"unknown\")"
   ]
  },
  {
   "cell_type": "markdown",
   "metadata": {
    "id": "vlL0jj_LN6l9"
   },
   "source": [
    "We have now eliminated all missing values!"
   ]
  },
  {
   "cell_type": "code",
   "execution_count": null,
   "metadata": {
    "id": "K4R1WjQvN9Lo"
   },
   "outputs": [],
   "source": [
    "covid_data.isna().sum()"
   ]
  },
  {
   "cell_type": "markdown",
   "metadata": {
    "id": "GX14pnEteeXJ"
   },
   "source": [
    "<mark>In **MOODLE**</mark>:\n",
    "\n",
    "* upload your code snippte to fill in missing values for `new_hosp` and `source`\n",
    "* upload the output of counting remaining missing values"
   ]
  },
  {
   "cell_type": "markdown",
   "metadata": {
    "id": "GcHL2-ZHON8g"
   },
   "source": [
    "## Dealing with Duplicate Rows"
   ]
  },
  {
   "cell_type": "markdown",
   "metadata": {
    "id": "wh0uWaYUOQ48"
   },
   "source": [
    "The `.duplicated()` method will tell you for each row whether it is an exact duplicate. By default it will mark the first occurrence of a row as a non-duplicate and every following occurrence as a duplicate."
   ]
  },
  {
   "cell_type": "code",
   "execution_count": null,
   "metadata": {
    "id": "q-Ejmse0YRIT"
   },
   "outputs": [],
   "source": [
    "covid_data.duplicated()"
   ]
  },
  {
   "cell_type": "markdown",
   "metadata": {
    "id": "PjDDBgVYYYou"
   },
   "source": [
    "We can check whether there are any exact duplicates by summing:"
   ]
  },
  {
   "cell_type": "code",
   "execution_count": null,
   "metadata": {
    "id": "hB5R0BLkYU4-"
   },
   "outputs": [],
   "source": [
    "covid_data.duplicated().sum()"
   ]
  },
  {
   "cell_type": "markdown",
   "metadata": {
    "id": "9H65SLycYgcd"
   },
   "source": [
    "We can see that our dataset does not contain any duplicate columns, this is mainly because each entry has a unique `'date'` and `'time'`.\n",
    "\n",
    "We can set the `subset=...` parameter to indicate which columns to consider for duplicate detection. Let us check whether there are duplicates, when we ignore the `'date'` and `'time'` columns:"
   ]
  },
  {
   "cell_type": "markdown",
   "metadata": {
    "id": "7c2qk9UQytVe"
   },
   "source": [
    "**🚨 TASK 1B (1 Point) 🚨**\n",
    "\n",
    "* count the number of exact duplicates when we only consider non-time colums"
   ]
  },
  {
   "cell_type": "code",
   "execution_count": null,
   "metadata": {
    "id": "5cFMZMszORoC"
   },
   "outputs": [],
   "source": [
    "non_time_cols = [c for c in covid_data.columns if c not in {'date', 'time'}]"
   ]
  },
  {
   "cell_type": "code",
   "execution_count": null,
   "metadata": {
    "id": "gzAGHBH2zPWo"
   },
   "outputs": [],
   "source": [
    "# TODO\n",
    "covid_data.duplicated(subset=non_time_cols).sum()"
   ]
  },
  {
   "cell_type": "markdown",
   "metadata": {
    "id": "5x6S2E67e6Ni"
   },
   "source": [
    "<mark>In **MOODLE**</mark>:\n",
    "* upload the number of exact duplicates considering only non-time columns"
   ]
  },
  {
   "cell_type": "markdown",
   "metadata": {
    "id": "aY_o5c2VZNr-"
   },
   "source": [
    "There is a good chance that the duplicates are a result of our missing value imputation approach.\n",
    "\n",
    "Here it does not seem like a good idea to drop any rows as those rows that have identical entries except date and time are not a-priori problematic.\n"
   ]
  },
  {
   "cell_type": "markdown",
   "metadata": {
    "id": "V1GVriCx1euq"
   },
   "source": [
    "Nevertheless, it is good to know how to remove duplicate rows for future reference.\n",
    "\n",
    "We can do so using the `.drop_duplicates()` method, which will drop those rows that `.duplicated()` indicates as duplicates:\n",
    "\n",
    "Don't worry about running the next cell, it will return a new dataframe with rows dropped but will not change your current version of `covid_data`."
   ]
  },
  {
   "cell_type": "code",
   "execution_count": null,
   "metadata": {
    "id": "9VLn8Vx4ZMvc"
   },
   "outputs": [],
   "source": [
    "covid_data.drop_duplicates(subset=non_time_cols)"
   ]
  },
  {
   "cell_type": "markdown",
   "metadata": {
    "id": "13otm6KSa-qz"
   },
   "source": [
    "## Cleaning up the 'source' Column"
   ]
  },
  {
   "cell_type": "markdown",
   "metadata": {
    "id": "CFgZqf-ScElX"
   },
   "source": [
    "Looking at the values in the `source` column, we can see that they correspond to URLs. Many of these belong to the same domain and only vary in their parameters."
   ]
  },
  {
   "cell_type": "markdown",
   "metadata": {
    "id": "Qz6ozYz-2ASg"
   },
   "source": [
    "🚨 **TASK 1C (1 Point)** 🚨\n",
    "\n",
    "* inspect the unique values in the `source` column\n",
    "* count the unique values in the `source` column"
   ]
  },
  {
   "cell_type": "code",
   "execution_count": null,
   "metadata": {
    "id": "rObuK96IbERA"
   },
   "outputs": [],
   "source": [
    "# Hint: we have already done this for different column earlier\n",
    "sorted(covid_data['source'].unique())"
   ]
  },
  {
   "cell_type": "code",
   "execution_count": null,
   "metadata": {
    "id": "X37DH_BOf56R"
   },
   "outputs": [],
   "source": [
    "# the `.unique` method returns a numpy array, you can use the built-in `len` function to check its length\n",
    "len(covid_data['source'].unique())"
   ]
  },
  {
   "cell_type": "markdown",
   "metadata": {
    "id": "r8lBYndpgBUD"
   },
   "source": [
    "<mark>In **MOODLE**</mark>:\n",
    "* report the number of unique values in the `source` column."
   ]
  },
  {
   "cell_type": "markdown",
   "metadata": {
    "id": "5I-kcGHccbVN"
   },
   "source": [
    "Let us try making this data more digestable by extracting the domain information."
   ]
  },
  {
   "cell_type": "markdown",
   "metadata": {
    "id": "WKLedFgLclAw"
   },
   "source": [
    "For this we will use the following helper function:"
   ]
  },
  {
   "cell_type": "code",
   "execution_count": null,
   "metadata": {
    "id": "STSpySHsbola"
   },
   "outputs": [],
   "source": [
    "from urllib.parse import urlparse\n",
    "def extract_netloc(url):\n",
    "  return urlparse(url).netloc\n",
    "\n",
    "# lets try it out\n",
    "url = 'https://www.baselland.ch/politik-und-behorden/direktionen/volkswirtschafts-und-gesundheitsdirektion/amt-fur-gesundheit/medizinische-dienste/kantonsarztlicher-dienst/aktuelles/covid-19-faelle-kanton-basel-landschaft'\n",
    "print(extract_netloc(url))"
   ]
  },
  {
   "cell_type": "markdown",
   "metadata": {
    "id": "StEIho00dDML"
   },
   "source": [
    "We can apply this function to the `source` column to replace it with a cleaned version:"
   ]
  },
  {
   "cell_type": "code",
   "execution_count": null,
   "metadata": {
    "id": "_d_ebNb_dMfv"
   },
   "outputs": [],
   "source": [
    "covid_data['source'] = covid_data['source'].apply(extract_netloc)\n",
    "covid_data"
   ]
  },
  {
   "cell_type": "code",
   "execution_count": null,
   "metadata": {
    "id": "Z5wWKyoTdWTu"
   },
   "outputs": [],
   "source": [
    "sorted(covid_data['source'].unique())"
   ]
  },
  {
   "cell_type": "markdown",
   "metadata": {
    "id": "uvDFj1wvdixT"
   },
   "source": [
    "The `.apply` method applies the function passed as an argument to each element."
   ]
  },
  {
   "cell_type": "markdown",
   "metadata": {
    "id": "d0lrMNeznX79"
   },
   "source": [
    "Let's now save the final cleaned dataset:"
   ]
  },
  {
   "cell_type": "code",
   "execution_count": null,
   "metadata": {
    "id": "B09BiPKeneYY"
   },
   "outputs": [],
   "source": [
    "covid_data.to_csv('swiss_covid_data_clean.csv')"
   ]
  },
  {
   "cell_type": "markdown",
   "metadata": {
    "id": "kx8EHnlQrdzJ"
   },
   "source": [
    "At this point, we consider the data cleaning process done.\n",
    "\n",
    "ℹ️ **In the next cell, we will download a reference version of the cleaned data that you can use, if you did not manage to implement part of the process so far.**"
   ]
  },
  {
   "cell_type": "code",
   "execution_count": null,
   "metadata": {
    "id": "qBDb86h2ryxQ"
   },
   "outputs": [],
   "source": [
    "!wget https://raw.githubusercontent.com/vodezhaw/mldm_hs23/main/resources/lab01_clean_data.csv -O lab01_clean_data.csv"
   ]
  },
  {
   "cell_type": "code",
   "execution_count": null,
   "metadata": {
    "id": "y-FaRxNdr_Aw"
   },
   "outputs": [],
   "source": [
    "# uncomment the next line, if you want to use reference data\n",
    "# covid_data = pd.read_csv('lab01_clean_data.csv')"
   ]
  },
  {
   "cell_type": "markdown",
   "metadata": {
    "id": "y1wRq0xhobMU"
   },
   "source": [
    "## Using the Clean Data"
   ]
  },
  {
   "cell_type": "markdown",
   "metadata": {
    "id": "TK3_zZHVogrY"
   },
   "source": [
    "### **🚨 TASK 2 (3 Points) 🚨**"
   ]
  },
  {
   "cell_type": "markdown",
   "metadata": {
    "id": "QDGMGKaZwQkf"
   },
   "source": [
    "Now that you have a clean dataset, it is time for some data exploration.\n",
    "\n",
    "* think of a question that you could try to answer with the given dataset\n",
    "* use summary statistics and/or visualizations to try to answer your question\n",
    "\n",
    "<mark>On **Moodle**</mark> _upload a <mark>PDF</mark>_ answering the following questions:\n",
    "* What was your initial question or idea?\n",
    "* How did you proceed to arrive at an answer?\n",
    "* What are your results?\n",
    "* Include code-snippets, plots, and similar to support your answer."
   ]
  },
  {
   "cell_type": "markdown",
   "metadata": {
    "id": "anhVyTsKMy3U"
   },
   "source": [
    "Below, we include some code that helps you plot time-dependent variables.\n",
    "Note that **it is _NOT_ mandatory to produce any plots for this assignment**!"
   ]
  },
  {
   "cell_type": "code",
   "execution_count": null,
   "metadata": {
    "id": "dOie_M-NCuhp"
   },
   "outputs": [],
   "source": [
    "# You might want to plot things\n",
    "from matplotlib import pyplot as plt"
   ]
  },
  {
   "cell_type": "code",
   "execution_count": null,
   "metadata": {
    "id": "e3o4I-CEJGnR"
   },
   "outputs": [],
   "source": [
    "# replace 'date' string by parsed datetime objects\n",
    "# this can help if you want to use matplotlib to create a time plot\n",
    "# you do not have to understand this\n",
    "from datetime import datetime as dt\n",
    "covid_data['date'] = pd.to_datetime(covid_data['date'].apply(lambda t: dt.strptime(t, \"%Y-%m-%d\")))"
   ]
  },
  {
   "cell_type": "code",
   "execution_count": null,
   "metadata": {
    "id": "hlYFEXr4DNe7"
   },
   "outputs": [],
   "source": [
    "# extract dates for Geneva\n",
    "x = covid_data.loc[covid_data['abbreviation_canton_and_fl'] == 'GE', ['date']]\n",
    "# extract the 'ncumul_test' column for Geneva\n",
    "y = covid_data.loc[covid_data['abbreviation_canton_and_fl'] == 'GE', ['ncumul_tested']]\n",
    "\n",
    "# plot\n",
    "plt.plot_date(x, y)"
   ]
  },
  {
   "cell_type": "code",
   "execution_count": null,
   "metadata": {
    "id": "-3eCxX2Qznl_"
   },
   "outputs": [],
   "source": [
    "x = covid_data.loc[covid_data['abbreviation_canton_and_fl'] == 'GE', ['date']]\n",
    "# extract the 'ncumul_test' column for Geneva\n",
    "y = covid_data.loc[covid_data['abbreviation_canton_and_fl'] == 'GE', ['ncumul_conf']]\n",
    "\n",
    "# plot\n",
    "plt.plot_date(x, y)"
   ]
  },
  {
   "cell_type": "code",
   "execution_count": null,
   "metadata": {
    "id": "G0SgLr9iNYox"
   },
   "outputs": [],
   "source": [
    "# Generic scatter-plot that does not include a time variable\n",
    "plt.scatter(covid_data['ncumul_tested'], covid_data['ncumul_deceased'])"
   ]
  }
 ],
 "metadata": {
  "colab": {
   "private_outputs": true,
   "provenance": []
  },
  "kernelspec": {
   "display_name": "Python 3 (ipykernel)",
   "language": "python",
   "name": "python3"
  },
  "language_info": {
   "codemirror_mode": {
    "name": "ipython",
    "version": 3
   },
   "file_extension": ".py",
   "mimetype": "text/x-python",
   "name": "python",
   "nbconvert_exporter": "python",
   "pygments_lexer": "ipython3",
   "version": "3.10.9"
  }
 },
 "nbformat": 4,
 "nbformat_minor": 1
}
